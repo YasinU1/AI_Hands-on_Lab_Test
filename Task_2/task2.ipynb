{
 "cells": [
  {
   "cell_type": "code",
   "execution_count": 25,
   "id": "93020055",
   "metadata": {},
   "outputs": [],
   "source": [
    "import pandas as pd\n",
    "import datetime\n",
    "from sklearn.preprocessing import OneHotEncoder\n",
    "from sklearn.model_selection import StratifiedKFold, cross_val_score\n",
    "from sklearn.ensemble import GradientBoostingRegressor\n",
    "from sklearn.metrics import mean_squared_error, mean_absolute_error\n",
    "from sklearn.feature_selection import RFECV\n",
    "from bayes_opt import BayesianOptimization\n",
    "from joblib import dump, load\n",
    "import matplotlib.pyplot as plt"
   ]
  },
  {
   "cell_type": "code",
   "execution_count": 3,
   "id": "bdda57ae",
   "metadata": {},
   "outputs": [],
   "source": [
    "df = pd.read_csv(\"used_cars_data.csv\")"
   ]
  },
  {
   "cell_type": "code",
   "execution_count": null,
   "id": "ba4ef3e6",
   "metadata": {},
   "outputs": [],
   "source": [
    "def augment_data(df, features, fraction=0.05):\n",
    "    \"\"\"\n",
    "    Augment data by adding jittering.\n",
    "    \n",
    "    Parameters:\n",
    "    - df: DataFrame to augment.\n",
    "    - features: List of feature columns to which jittering should be applied.\n",
    "    - fraction: Fraction of noise to add to the data.\n",
    "    \n",
    "    Returns:\n",
    "    - Augmented DataFrame.\n",
    "    \"\"\"\n",
    "    augmented_df = df.copy()\n",
    "    for feature in features:\n",
    "        noise = np.random.normal(0, fraction * df[feature].std(), size=df[feature].shape)\n",
    "        augmented_df[feature] = df[feature] + noise\n",
    "    return augmented_df\n"
   ]
  },
  {
   "cell_type": "code",
   "execution_count": null,
   "id": "c7752707",
   "metadata": {},
   "outputs": [],
   "source": [
    "# Augment the data\n",
    "augmented_df = augment_data(df, features=['mileage (kms)', 'year'])\n"
   ]
  },
  {
   "cell_type": "markdown",
   "id": "978a6848",
   "metadata": {},
   "source": [
    "## Data Preprocessing"
   ]
  },
  {
   "cell_type": "code",
   "execution_count": 4,
   "id": "6cd73492",
   "metadata": {},
   "outputs": [],
   "source": [
    "enc = OneHotEncoder(handle_unknown='ignore')"
   ]
  },
  {
   "cell_type": "code",
   "execution_count": 5,
   "id": "213c2e63",
   "metadata": {},
   "outputs": [],
   "source": [
    "X = df[['brand', 'fuel', 'gearbox']]"
   ]
  },
  {
   "cell_type": "code",
   "execution_count": 6,
   "id": "b864e88c",
   "metadata": {},
   "outputs": [
    {
     "data": {
      "text/html": [
       "<style>#sk-container-id-1 {color: black;}#sk-container-id-1 pre{padding: 0;}#sk-container-id-1 div.sk-toggleable {background-color: white;}#sk-container-id-1 label.sk-toggleable__label {cursor: pointer;display: block;width: 100%;margin-bottom: 0;padding: 0.3em;box-sizing: border-box;text-align: center;}#sk-container-id-1 label.sk-toggleable__label-arrow:before {content: \"▸\";float: left;margin-right: 0.25em;color: #696969;}#sk-container-id-1 label.sk-toggleable__label-arrow:hover:before {color: black;}#sk-container-id-1 div.sk-estimator:hover label.sk-toggleable__label-arrow:before {color: black;}#sk-container-id-1 div.sk-toggleable__content {max-height: 0;max-width: 0;overflow: hidden;text-align: left;background-color: #f0f8ff;}#sk-container-id-1 div.sk-toggleable__content pre {margin: 0.2em;color: black;border-radius: 0.25em;background-color: #f0f8ff;}#sk-container-id-1 input.sk-toggleable__control:checked~div.sk-toggleable__content {max-height: 200px;max-width: 100%;overflow: auto;}#sk-container-id-1 input.sk-toggleable__control:checked~label.sk-toggleable__label-arrow:before {content: \"▾\";}#sk-container-id-1 div.sk-estimator input.sk-toggleable__control:checked~label.sk-toggleable__label {background-color: #d4ebff;}#sk-container-id-1 div.sk-label input.sk-toggleable__control:checked~label.sk-toggleable__label {background-color: #d4ebff;}#sk-container-id-1 input.sk-hidden--visually {border: 0;clip: rect(1px 1px 1px 1px);clip: rect(1px, 1px, 1px, 1px);height: 1px;margin: -1px;overflow: hidden;padding: 0;position: absolute;width: 1px;}#sk-container-id-1 div.sk-estimator {font-family: monospace;background-color: #f0f8ff;border: 1px dotted black;border-radius: 0.25em;box-sizing: border-box;margin-bottom: 0.5em;}#sk-container-id-1 div.sk-estimator:hover {background-color: #d4ebff;}#sk-container-id-1 div.sk-parallel-item::after {content: \"\";width: 100%;border-bottom: 1px solid gray;flex-grow: 1;}#sk-container-id-1 div.sk-label:hover label.sk-toggleable__label {background-color: #d4ebff;}#sk-container-id-1 div.sk-serial::before {content: \"\";position: absolute;border-left: 1px solid gray;box-sizing: border-box;top: 0;bottom: 0;left: 50%;z-index: 0;}#sk-container-id-1 div.sk-serial {display: flex;flex-direction: column;align-items: center;background-color: white;padding-right: 0.2em;padding-left: 0.2em;position: relative;}#sk-container-id-1 div.sk-item {position: relative;z-index: 1;}#sk-container-id-1 div.sk-parallel {display: flex;align-items: stretch;justify-content: center;background-color: white;position: relative;}#sk-container-id-1 div.sk-item::before, #sk-container-id-1 div.sk-parallel-item::before {content: \"\";position: absolute;border-left: 1px solid gray;box-sizing: border-box;top: 0;bottom: 0;left: 50%;z-index: -1;}#sk-container-id-1 div.sk-parallel-item {display: flex;flex-direction: column;z-index: 1;position: relative;background-color: white;}#sk-container-id-1 div.sk-parallel-item:first-child::after {align-self: flex-end;width: 50%;}#sk-container-id-1 div.sk-parallel-item:last-child::after {align-self: flex-start;width: 50%;}#sk-container-id-1 div.sk-parallel-item:only-child::after {width: 0;}#sk-container-id-1 div.sk-dashed-wrapped {border: 1px dashed gray;margin: 0 0.4em 0.5em 0.4em;box-sizing: border-box;padding-bottom: 0.4em;background-color: white;}#sk-container-id-1 div.sk-label label {font-family: monospace;font-weight: bold;display: inline-block;line-height: 1.2em;}#sk-container-id-1 div.sk-label-container {text-align: center;}#sk-container-id-1 div.sk-container {/* jupyter's `normalize.less` sets `[hidden] { display: none; }` but bootstrap.min.css set `[hidden] { display: none !important; }` so we also need the `!important` here to be able to override the default hidden behavior on the sphinx rendered scikit-learn.org. See: https://github.com/scikit-learn/scikit-learn/issues/21755 */display: inline-block !important;position: relative;}#sk-container-id-1 div.sk-text-repr-fallback {display: none;}</style><div id=\"sk-container-id-1\" class=\"sk-top-container\"><div class=\"sk-text-repr-fallback\"><pre>OneHotEncoder(handle_unknown=&#x27;ignore&#x27;)</pre><b>In a Jupyter environment, please rerun this cell to show the HTML representation or trust the notebook. <br />On GitHub, the HTML representation is unable to render, please try loading this page with nbviewer.org.</b></div><div class=\"sk-container\" hidden><div class=\"sk-item\"><div class=\"sk-estimator sk-toggleable\"><input class=\"sk-toggleable__control sk-hidden--visually\" id=\"sk-estimator-id-1\" type=\"checkbox\" checked><label for=\"sk-estimator-id-1\" class=\"sk-toggleable__label sk-toggleable__label-arrow\">OneHotEncoder</label><div class=\"sk-toggleable__content\"><pre>OneHotEncoder(handle_unknown=&#x27;ignore&#x27;)</pre></div></div></div></div></div>"
      ],
      "text/plain": [
       "OneHotEncoder(handle_unknown='ignore')"
      ]
     },
     "execution_count": 6,
     "metadata": {},
     "output_type": "execute_result"
    }
   ],
   "source": [
    "enc.fit(X)"
   ]
  },
  {
   "cell_type": "code",
   "execution_count": 7,
   "id": "eb787ca2",
   "metadata": {},
   "outputs": [],
   "source": [
    "X_features = pd.DataFrame(enc.transform(df[['brand', 'fuel', 'gearbox']]).toarray())\n"
   ]
  },
  {
   "cell_type": "markdown",
   "id": "f1bdc65c",
   "metadata": {},
   "source": [
    "## Feature Engineering"
   ]
  },
  {
   "cell_type": "markdown",
   "id": "c3ffdea3",
   "metadata": {},
   "source": [
    "Calculate the age of the car and other potential features"
   ]
  },
  {
   "cell_type": "code",
   "execution_count": 8,
   "id": "157ad482",
   "metadata": {},
   "outputs": [],
   "source": [
    "year = datetime.datetime.now().year"
   ]
  },
  {
   "cell_type": "code",
   "execution_count": 9,
   "id": "2d6f8f87",
   "metadata": {},
   "outputs": [],
   "source": [
    "df['age'] = year - df['year']\n",
    "df['mileage_per_year'] = df['mileage (kms)'] / df['age']\n",
    "X_num = df[['age', 'mileage (kms)', 'mileage_per_year']]\n",
    "y = df['price (eur)']"
   ]
  },
  {
   "cell_type": "code",
   "execution_count": 10,
   "id": "2826c1ad",
   "metadata": {},
   "outputs": [],
   "source": [
    "X = pd.concat([X_num, X_features], axis=1)"
   ]
  },
  {
   "cell_type": "code",
   "execution_count": 11,
   "id": "2903664c",
   "metadata": {},
   "outputs": [],
   "source": [
    "X.columns = X.columns.astype(str)"
   ]
  },
  {
   "cell_type": "markdown",
   "id": "5dcec669",
   "metadata": {},
   "source": [
    "Feature Selection using Recursive Feature Elimination with cross-validation (RFECV)"
   ]
  },
  {
   "cell_type": "markdown",
   "id": "ae76cef0",
   "metadata": {},
   "source": [
    "RFECV helps in selecting the most important features for the model."
   ]
  },
  {
   "cell_type": "code",
   "execution_count": 12,
   "id": "95402d8f",
   "metadata": {},
   "outputs": [
    {
     "name": "stderr",
     "output_type": "stream",
     "text": [
      "/opt/homebrew/lib/python3.11/site-packages/sklearn/model_selection/_split.py:725: UserWarning: The least populated class in y has only 1 members, which is less than n_splits=5.\n",
      "  warnings.warn(\n"
     ]
    }
   ],
   "source": [
    "selector = RFECV(estimator=GradientBoostingRegressor(), step=1, cv=StratifiedKFold(5))\n",
    "X_selected = selector.fit_transform(X, y)\n"
   ]
  },
  {
   "cell_type": "markdown",
   "id": "2ab22648",
   "metadata": {},
   "source": [
    "## Model Training with Cross-validation"
   ]
  },
  {
   "cell_type": "markdown",
   "id": "3bc06e44",
   "metadata": {},
   "source": [
    "StratifiedKFold ensures that each fold has the same proportion of observations with a given label."
   ]
  },
  {
   "cell_type": "code",
   "execution_count": 13,
   "id": "d5256fef",
   "metadata": {},
   "outputs": [],
   "source": [
    "kf = StratifiedKFold(n_splits=5, shuffle=True, random_state=42)"
   ]
  },
  {
   "cell_type": "markdown",
   "id": "cb9e85de",
   "metadata": {},
   "source": [
    "## Hyperparameter tuning with Bayesian Optimization for Gradient Boosting"
   ]
  },
  {
   "cell_type": "markdown",
   "id": "240f1b7c",
   "metadata": {},
   "source": [
    "Bayesian Optimization helps in finding the best hyperparameters for the model."
   ]
  },
  {
   "cell_type": "code",
   "execution_count": 14,
   "id": "7cecdee7",
   "metadata": {},
   "outputs": [],
   "source": [
    "def optimize_gb(n_estimators, learning_rate, max_depth, subsample, min_samples_split, min_samples_leaf):\n",
    "    model = GradientBoostingRegressor(\n",
    "        n_estimators=int(n_estimators),\n",
    "        learning_rate=learning_rate,\n",
    "        max_depth=int(max_depth),\n",
    "        subsample=subsample,\n",
    "        min_samples_split=int(min_samples_split),\n",
    "        min_samples_leaf=int(min_samples_leaf),\n",
    "        n_iter_no_change=10,\n",
    "        validation_fraction=0.1,\n",
    "        tol=0.01\n",
    "    )\n",
    "    return cross_val_score(model, X_selected, y, cv=kf, scoring='neg_mean_squared_error').mean()\n"
   ]
  },
  {
   "cell_type": "code",
   "execution_count": 15,
   "id": "815bc292",
   "metadata": {},
   "outputs": [],
   "source": [
    "optimizer = BayesianOptimization(\n",
    "    f=optimize_gb,\n",
    "    pbounds={\n",
    "        \"n_estimators\": (50, 300),\n",
    "        \"learning_rate\": (0.01, 0.3),\n",
    "        \"max_depth\": (3, 10),\n",
    "        \"subsample\": (0.5, 1.0),\n",
    "        \"min_samples_split\": (2, 10),\n",
    "        \"min_samples_leaf\": (1, 10)\n",
    "    },\n",
    "    random_state=42,\n",
    ")"
   ]
  },
  {
   "cell_type": "code",
   "execution_count": 16,
   "id": "8ca2c900",
   "metadata": {},
   "outputs": [
    {
     "name": "stdout",
     "output_type": "stream",
     "text": [
      "|   iter    |  target   | learni... | max_depth | min_sa... | min_sa... | n_esti... | subsample |\n",
      "-------------------------------------------------------------------------------------------------\n",
      "| \u001b[0m1        \u001b[0m | \u001b[0m-2.809e+0\u001b[0m | \u001b[0m0.1186   \u001b[0m | \u001b[0m9.655    \u001b[0m | \u001b[0m7.588    \u001b[0m | \u001b[0m6.789    \u001b[0m | \u001b[0m89.0     \u001b[0m | \u001b[0m0.578    \u001b[0m |\n"
     ]
    },
    {
     "name": "stderr",
     "output_type": "stream",
     "text": [
      "/opt/homebrew/lib/python3.11/site-packages/sklearn/model_selection/_split.py:725: UserWarning: The least populated class in y has only 1 members, which is less than n_splits=5.\n",
      "  warnings.warn(\n",
      "/opt/homebrew/lib/python3.11/site-packages/sklearn/model_selection/_split.py:725: UserWarning: The least populated class in y has only 1 members, which is less than n_splits=5.\n",
      "  warnings.warn(\n"
     ]
    },
    {
     "name": "stdout",
     "output_type": "stream",
     "text": [
      "| \u001b[95m2        \u001b[0m | \u001b[95m-2.767e+0\u001b[0m | \u001b[95m0.02684  \u001b[0m | \u001b[95m9.063    \u001b[0m | \u001b[95m6.41     \u001b[0m | \u001b[95m7.665    \u001b[0m | \u001b[95m55.15    \u001b[0m | \u001b[95m0.985    \u001b[0m |\n",
      "| \u001b[95m3        \u001b[0m | \u001b[95m-2.454e+0\u001b[0m | \u001b[95m0.2514   \u001b[0m | \u001b[95m4.486    \u001b[0m | \u001b[95m2.636    \u001b[0m | \u001b[95m3.467    \u001b[0m | \u001b[95m126.1    \u001b[0m | \u001b[95m0.7624   \u001b[0m |\n"
     ]
    },
    {
     "name": "stderr",
     "output_type": "stream",
     "text": [
      "/opt/homebrew/lib/python3.11/site-packages/sklearn/model_selection/_split.py:725: UserWarning: The least populated class in y has only 1 members, which is less than n_splits=5.\n",
      "  warnings.warn(\n",
      "/opt/homebrew/lib/python3.11/site-packages/sklearn/model_selection/_split.py:725: UserWarning: The least populated class in y has only 1 members, which is less than n_splits=5.\n",
      "  warnings.warn(\n"
     ]
    },
    {
     "name": "stdout",
     "output_type": "stream",
     "text": [
      "| \u001b[0m4        \u001b[0m | \u001b[0m-2.568e+0\u001b[0m | \u001b[0m0.1353   \u001b[0m | \u001b[0m5.039    \u001b[0m | \u001b[0m6.507    \u001b[0m | \u001b[0m3.116    \u001b[0m | \u001b[0m123.0    \u001b[0m | \u001b[0m0.6832   \u001b[0m |\n",
      "| \u001b[0m5        \u001b[0m | \u001b[0m-2.637e+0\u001b[0m | \u001b[0m0.1423   \u001b[0m | \u001b[0m8.496    \u001b[0m | \u001b[0m2.797    \u001b[0m | \u001b[0m6.114    \u001b[0m | \u001b[0m198.1    \u001b[0m | \u001b[0m0.5232   \u001b[0m |\n"
     ]
    },
    {
     "name": "stderr",
     "output_type": "stream",
     "text": [
      "/opt/homebrew/lib/python3.11/site-packages/sklearn/model_selection/_split.py:725: UserWarning: The least populated class in y has only 1 members, which is less than n_splits=5.\n",
      "  warnings.warn(\n",
      "/opt/homebrew/lib/python3.11/site-packages/sklearn/model_selection/_split.py:725: UserWarning: The least populated class in y has only 1 members, which is less than n_splits=5.\n",
      "  warnings.warn(\n"
     ]
    },
    {
     "name": "stdout",
     "output_type": "stream",
     "text": [
      "| \u001b[95m6        \u001b[0m | \u001b[95m-2.276e+0\u001b[0m | \u001b[95m0.2012   \u001b[0m | \u001b[95m4.078    \u001b[0m | \u001b[95m1.393    \u001b[0m | \u001b[95m4.306    \u001b[0m | \u001b[95m132.4    \u001b[0m | \u001b[95m0.847    \u001b[0m |\n"
     ]
    },
    {
     "name": "stderr",
     "output_type": "stream",
     "text": [
      "/opt/homebrew/lib/python3.11/site-packages/sklearn/model_selection/_split.py:725: UserWarning: The least populated class in y has only 1 members, which is less than n_splits=5.\n",
      "  warnings.warn(\n"
     ]
    },
    {
     "name": "stdout",
     "output_type": "stream",
     "text": [
      "| \u001b[95m7        \u001b[0m | \u001b[95m-2.25e+07\u001b[0m | \u001b[95m0.3      \u001b[0m | \u001b[95m3.0      \u001b[0m | \u001b[95m1.0      \u001b[0m | \u001b[95m4.066    \u001b[0m | \u001b[95m144.9    \u001b[0m | \u001b[95m1.0      \u001b[0m |\n"
     ]
    },
    {
     "name": "stderr",
     "output_type": "stream",
     "text": [
      "/opt/homebrew/lib/python3.11/site-packages/sklearn/model_selection/_split.py:725: UserWarning: The least populated class in y has only 1 members, which is less than n_splits=5.\n",
      "  warnings.warn(\n"
     ]
    },
    {
     "name": "stdout",
     "output_type": "stream",
     "text": [
      "| \u001b[0m8        \u001b[0m | \u001b[0m-2.522e+0\u001b[0m | \u001b[0m0.071    \u001b[0m | \u001b[0m9.947    \u001b[0m | \u001b[0m2.925    \u001b[0m | \u001b[0m7.608    \u001b[0m | \u001b[0m173.9    \u001b[0m | \u001b[0m0.6438   \u001b[0m |\n"
     ]
    },
    {
     "name": "stderr",
     "output_type": "stream",
     "text": [
      "/opt/homebrew/lib/python3.11/site-packages/sklearn/model_selection/_split.py:725: UserWarning: The least populated class in y has only 1 members, which is less than n_splits=5.\n",
      "  warnings.warn(\n"
     ]
    },
    {
     "name": "stdout",
     "output_type": "stream",
     "text": [
      "| \u001b[0m9        \u001b[0m | \u001b[0m-2.623e+0\u001b[0m | \u001b[0m0.01     \u001b[0m | \u001b[0m10.0     \u001b[0m | \u001b[0m1.0      \u001b[0m | \u001b[0m10.0     \u001b[0m | \u001b[0m140.5    \u001b[0m | \u001b[0m0.5      \u001b[0m |\n"
     ]
    },
    {
     "name": "stderr",
     "output_type": "stream",
     "text": [
      "/opt/homebrew/lib/python3.11/site-packages/sklearn/model_selection/_split.py:725: UserWarning: The least populated class in y has only 1 members, which is less than n_splits=5.\n",
      "  warnings.warn(\n"
     ]
    },
    {
     "name": "stdout",
     "output_type": "stream",
     "text": [
      "| \u001b[0m10       \u001b[0m | \u001b[0m-2.451e+0\u001b[0m | \u001b[0m0.3      \u001b[0m | \u001b[0m3.0      \u001b[0m | \u001b[0m4.936    \u001b[0m | \u001b[0m2.0      \u001b[0m | \u001b[0m139.1    \u001b[0m | \u001b[0m1.0      \u001b[0m |\n"
     ]
    },
    {
     "name": "stderr",
     "output_type": "stream",
     "text": [
      "/opt/homebrew/lib/python3.11/site-packages/sklearn/model_selection/_split.py:725: UserWarning: The least populated class in y has only 1 members, which is less than n_splits=5.\n",
      "  warnings.warn(\n"
     ]
    },
    {
     "name": "stdout",
     "output_type": "stream",
     "text": [
      "| \u001b[0m11       \u001b[0m | \u001b[0m-2.617e+0\u001b[0m | \u001b[0m0.2212   \u001b[0m | \u001b[0m6.057    \u001b[0m | \u001b[0m4.796    \u001b[0m | \u001b[0m2.243    \u001b[0m | \u001b[0m68.91    \u001b[0m | \u001b[0m0.8332   \u001b[0m |\n"
     ]
    },
    {
     "name": "stderr",
     "output_type": "stream",
     "text": [
      "/opt/homebrew/lib/python3.11/site-packages/sklearn/model_selection/_split.py:725: UserWarning: The least populated class in y has only 1 members, which is less than n_splits=5.\n",
      "  warnings.warn(\n"
     ]
    },
    {
     "name": "stdout",
     "output_type": "stream",
     "text": [
      "| \u001b[0m12       \u001b[0m | \u001b[0m-2.679e+0\u001b[0m | \u001b[0m0.1314   \u001b[0m | \u001b[0m8.078    \u001b[0m | \u001b[0m5.69     \u001b[0m | \u001b[0m7.933    \u001b[0m | \u001b[0m69.55    \u001b[0m | \u001b[0m0.5163   \u001b[0m |\n"
     ]
    },
    {
     "name": "stderr",
     "output_type": "stream",
     "text": [
      "/opt/homebrew/lib/python3.11/site-packages/sklearn/model_selection/_split.py:725: UserWarning: The least populated class in y has only 1 members, which is less than n_splits=5.\n",
      "  warnings.warn(\n"
     ]
    },
    {
     "name": "stdout",
     "output_type": "stream",
     "text": [
      "| \u001b[0m13       \u001b[0m | \u001b[0m-2.563e+0\u001b[0m | \u001b[0m0.02186  \u001b[0m | \u001b[0m3.806    \u001b[0m | \u001b[0m2.307    \u001b[0m | \u001b[0m3.811    \u001b[0m | \u001b[0m150.6    \u001b[0m | \u001b[0m0.795    \u001b[0m |\n"
     ]
    },
    {
     "name": "stderr",
     "output_type": "stream",
     "text": [
      "/opt/homebrew/lib/python3.11/site-packages/sklearn/model_selection/_split.py:725: UserWarning: The least populated class in y has only 1 members, which is less than n_splits=5.\n",
      "  warnings.warn(\n"
     ]
    },
    {
     "name": "stdout",
     "output_type": "stream",
     "text": [
      "| \u001b[0m14       \u001b[0m | \u001b[0m-2.313e+0\u001b[0m | \u001b[0m0.3      \u001b[0m | \u001b[0m3.0      \u001b[0m | \u001b[0m1.0      \u001b[0m | \u001b[0m5.835    \u001b[0m | \u001b[0m141.2    \u001b[0m | \u001b[0m1.0      \u001b[0m |\n"
     ]
    },
    {
     "name": "stderr",
     "output_type": "stream",
     "text": [
      "/opt/homebrew/lib/python3.11/site-packages/sklearn/model_selection/_split.py:725: UserWarning: The least populated class in y has only 1 members, which is less than n_splits=5.\n",
      "  warnings.warn(\n"
     ]
    },
    {
     "name": "stdout",
     "output_type": "stream",
     "text": [
      "| \u001b[95m15       \u001b[0m | \u001b[95m-2.121e+0\u001b[0m | \u001b[95m0.3      \u001b[0m | \u001b[95m3.0      \u001b[0m | \u001b[95m1.0      \u001b[0m | \u001b[95m9.318    \u001b[0m | \u001b[95m131.5    \u001b[0m | \u001b[95m1.0      \u001b[0m |\n"
     ]
    },
    {
     "name": "stderr",
     "output_type": "stream",
     "text": [
      "/opt/homebrew/lib/python3.11/site-packages/sklearn/model_selection/_split.py:725: UserWarning: The least populated class in y has only 1 members, which is less than n_splits=5.\n",
      "  warnings.warn(\n"
     ]
    },
    {
     "name": "stdout",
     "output_type": "stream",
     "text": [
      "| \u001b[0m16       \u001b[0m | \u001b[0m-2.509e+0\u001b[0m | \u001b[0m0.3      \u001b[0m | \u001b[0m3.0      \u001b[0m | \u001b[0m5.603    \u001b[0m | \u001b[0m10.0     \u001b[0m | \u001b[0m131.6    \u001b[0m | \u001b[0m1.0      \u001b[0m |\n"
     ]
    },
    {
     "name": "stderr",
     "output_type": "stream",
     "text": [
      "/opt/homebrew/lib/python3.11/site-packages/sklearn/model_selection/_split.py:725: UserWarning: The least populated class in y has only 1 members, which is less than n_splits=5.\n",
      "  warnings.warn(\n"
     ]
    },
    {
     "name": "stdout",
     "output_type": "stream",
     "text": [
      "| \u001b[0m17       \u001b[0m | \u001b[0m-2.342e+0\u001b[0m | \u001b[0m0.2544   \u001b[0m | \u001b[0m6.934    \u001b[0m | \u001b[0m1.009    \u001b[0m | \u001b[0m9.826    \u001b[0m | \u001b[0m130.2    \u001b[0m | \u001b[0m0.8671   \u001b[0m |\n"
     ]
    },
    {
     "name": "stderr",
     "output_type": "stream",
     "text": [
      "/opt/homebrew/lib/python3.11/site-packages/sklearn/model_selection/_split.py:725: UserWarning: The least populated class in y has only 1 members, which is less than n_splits=5.\n",
      "  warnings.warn(\n"
     ]
    },
    {
     "name": "stdout",
     "output_type": "stream",
     "text": [
      "| \u001b[0m18       \u001b[0m | \u001b[0m-2.435e+0\u001b[0m | \u001b[0m0.2465   \u001b[0m | \u001b[0m3.195    \u001b[0m | \u001b[0m1.446    \u001b[0m | \u001b[0m9.39     \u001b[0m | \u001b[0m133.4    \u001b[0m | \u001b[0m0.7116   \u001b[0m |\n"
     ]
    },
    {
     "name": "stderr",
     "output_type": "stream",
     "text": [
      "/opt/homebrew/lib/python3.11/site-packages/sklearn/model_selection/_split.py:725: UserWarning: The least populated class in y has only 1 members, which is less than n_splits=5.\n",
      "  warnings.warn(\n"
     ]
    },
    {
     "name": "stdout",
     "output_type": "stream",
     "text": [
      "| \u001b[0m19       \u001b[0m | \u001b[0m-2.448e+0\u001b[0m | \u001b[0m0.3      \u001b[0m | \u001b[0m3.579    \u001b[0m | \u001b[0m1.0      \u001b[0m | \u001b[0m7.873    \u001b[0m | \u001b[0m130.4    \u001b[0m | \u001b[0m1.0      \u001b[0m |\n"
     ]
    },
    {
     "name": "stderr",
     "output_type": "stream",
     "text": [
      "/opt/homebrew/lib/python3.11/site-packages/sklearn/model_selection/_split.py:725: UserWarning: The least populated class in y has only 1 members, which is less than n_splits=5.\n",
      "  warnings.warn(\n"
     ]
    },
    {
     "name": "stdout",
     "output_type": "stream",
     "text": [
      "| \u001b[0m20       \u001b[0m | \u001b[0m-2.176e+0\u001b[0m | \u001b[0m0.219    \u001b[0m | \u001b[0m3.727    \u001b[0m | \u001b[0m1.311    \u001b[0m | \u001b[0m5.613    \u001b[0m | \u001b[0m132.5    \u001b[0m | \u001b[0m0.8821   \u001b[0m |\n",
      "=================================================================================================\n"
     ]
    }
   ],
   "source": [
    "optimizer.maximize(n_iter=15)"
   ]
  },
  {
   "cell_type": "markdown",
   "id": "a4464ad1",
   "metadata": {},
   "source": [
    "# Hyperparameter Tuning"
   ]
  },
  {
   "cell_type": "markdown",
   "id": "ce9b12c0",
   "metadata": {},
   "source": [
    "Train the best model using the best hyperparameters\n"
   ]
  },
  {
   "cell_type": "code",
   "execution_count": 17,
   "id": "a9c2650a",
   "metadata": {},
   "outputs": [],
   "source": [
    "best_params = optimizer.max['params']\n",
    "regr_best = GradientBoostingRegressor(\n",
    "    n_estimators=int(best_params['n_estimators']),\n",
    "    learning_rate=best_params['learning_rate'],\n",
    "    max_depth=int(best_params['max_depth']),\n",
    "    subsample=best_params['subsample'],\n",
    "    min_samples_split=int(best_params['min_samples_split']),\n",
    "    min_samples_leaf=int(best_params['min_samples_leaf']),\n",
    "    n_iter_no_change=10,\n",
    "    validation_fraction=0.1,\n",
    "    tol=0.01\n",
    ")"
   ]
  },
  {
   "cell_type": "code",
   "execution_count": 18,
   "id": "c366d160",
   "metadata": {},
   "outputs": [
    {
     "data": {
      "text/html": [
       "<style>#sk-container-id-2 {color: black;}#sk-container-id-2 pre{padding: 0;}#sk-container-id-2 div.sk-toggleable {background-color: white;}#sk-container-id-2 label.sk-toggleable__label {cursor: pointer;display: block;width: 100%;margin-bottom: 0;padding: 0.3em;box-sizing: border-box;text-align: center;}#sk-container-id-2 label.sk-toggleable__label-arrow:before {content: \"▸\";float: left;margin-right: 0.25em;color: #696969;}#sk-container-id-2 label.sk-toggleable__label-arrow:hover:before {color: black;}#sk-container-id-2 div.sk-estimator:hover label.sk-toggleable__label-arrow:before {color: black;}#sk-container-id-2 div.sk-toggleable__content {max-height: 0;max-width: 0;overflow: hidden;text-align: left;background-color: #f0f8ff;}#sk-container-id-2 div.sk-toggleable__content pre {margin: 0.2em;color: black;border-radius: 0.25em;background-color: #f0f8ff;}#sk-container-id-2 input.sk-toggleable__control:checked~div.sk-toggleable__content {max-height: 200px;max-width: 100%;overflow: auto;}#sk-container-id-2 input.sk-toggleable__control:checked~label.sk-toggleable__label-arrow:before {content: \"▾\";}#sk-container-id-2 div.sk-estimator input.sk-toggleable__control:checked~label.sk-toggleable__label {background-color: #d4ebff;}#sk-container-id-2 div.sk-label input.sk-toggleable__control:checked~label.sk-toggleable__label {background-color: #d4ebff;}#sk-container-id-2 input.sk-hidden--visually {border: 0;clip: rect(1px 1px 1px 1px);clip: rect(1px, 1px, 1px, 1px);height: 1px;margin: -1px;overflow: hidden;padding: 0;position: absolute;width: 1px;}#sk-container-id-2 div.sk-estimator {font-family: monospace;background-color: #f0f8ff;border: 1px dotted black;border-radius: 0.25em;box-sizing: border-box;margin-bottom: 0.5em;}#sk-container-id-2 div.sk-estimator:hover {background-color: #d4ebff;}#sk-container-id-2 div.sk-parallel-item::after {content: \"\";width: 100%;border-bottom: 1px solid gray;flex-grow: 1;}#sk-container-id-2 div.sk-label:hover label.sk-toggleable__label {background-color: #d4ebff;}#sk-container-id-2 div.sk-serial::before {content: \"\";position: absolute;border-left: 1px solid gray;box-sizing: border-box;top: 0;bottom: 0;left: 50%;z-index: 0;}#sk-container-id-2 div.sk-serial {display: flex;flex-direction: column;align-items: center;background-color: white;padding-right: 0.2em;padding-left: 0.2em;position: relative;}#sk-container-id-2 div.sk-item {position: relative;z-index: 1;}#sk-container-id-2 div.sk-parallel {display: flex;align-items: stretch;justify-content: center;background-color: white;position: relative;}#sk-container-id-2 div.sk-item::before, #sk-container-id-2 div.sk-parallel-item::before {content: \"\";position: absolute;border-left: 1px solid gray;box-sizing: border-box;top: 0;bottom: 0;left: 50%;z-index: -1;}#sk-container-id-2 div.sk-parallel-item {display: flex;flex-direction: column;z-index: 1;position: relative;background-color: white;}#sk-container-id-2 div.sk-parallel-item:first-child::after {align-self: flex-end;width: 50%;}#sk-container-id-2 div.sk-parallel-item:last-child::after {align-self: flex-start;width: 50%;}#sk-container-id-2 div.sk-parallel-item:only-child::after {width: 0;}#sk-container-id-2 div.sk-dashed-wrapped {border: 1px dashed gray;margin: 0 0.4em 0.5em 0.4em;box-sizing: border-box;padding-bottom: 0.4em;background-color: white;}#sk-container-id-2 div.sk-label label {font-family: monospace;font-weight: bold;display: inline-block;line-height: 1.2em;}#sk-container-id-2 div.sk-label-container {text-align: center;}#sk-container-id-2 div.sk-container {/* jupyter's `normalize.less` sets `[hidden] { display: none; }` but bootstrap.min.css set `[hidden] { display: none !important; }` so we also need the `!important` here to be able to override the default hidden behavior on the sphinx rendered scikit-learn.org. See: https://github.com/scikit-learn/scikit-learn/issues/21755 */display: inline-block !important;position: relative;}#sk-container-id-2 div.sk-text-repr-fallback {display: none;}</style><div id=\"sk-container-id-2\" class=\"sk-top-container\"><div class=\"sk-text-repr-fallback\"><pre>GradientBoostingRegressor(learning_rate=0.3, min_samples_split=9,\n",
       "                          n_estimators=131, n_iter_no_change=10, tol=0.01)</pre><b>In a Jupyter environment, please rerun this cell to show the HTML representation or trust the notebook. <br />On GitHub, the HTML representation is unable to render, please try loading this page with nbviewer.org.</b></div><div class=\"sk-container\" hidden><div class=\"sk-item\"><div class=\"sk-estimator sk-toggleable\"><input class=\"sk-toggleable__control sk-hidden--visually\" id=\"sk-estimator-id-2\" type=\"checkbox\" checked><label for=\"sk-estimator-id-2\" class=\"sk-toggleable__label sk-toggleable__label-arrow\">GradientBoostingRegressor</label><div class=\"sk-toggleable__content\"><pre>GradientBoostingRegressor(learning_rate=0.3, min_samples_split=9,\n",
       "                          n_estimators=131, n_iter_no_change=10, tol=0.01)</pre></div></div></div></div></div>"
      ],
      "text/plain": [
       "GradientBoostingRegressor(learning_rate=0.3, min_samples_split=9,\n",
       "                          n_estimators=131, n_iter_no_change=10, tol=0.01)"
      ]
     },
     "execution_count": 18,
     "metadata": {},
     "output_type": "execute_result"
    }
   ],
   "source": [
    "regr_best.fit(X_selected, y)\n"
   ]
  },
  {
   "cell_type": "markdown",
   "id": "0efc0492",
   "metadata": {},
   "source": [
    "## Model Evaluation"
   ]
  },
  {
   "cell_type": "markdown",
   "id": "fe2831e8",
   "metadata": {},
   "source": [
    "Calculate the RMSE and MAE to evaluate the model's performance."
   ]
  },
  {
   "cell_type": "code",
   "execution_count": 19,
   "id": "ef0cd808",
   "metadata": {},
   "outputs": [],
   "source": [
    "y_pred = regr_best.predict(X_selected)\n",
    "rmse = mean_squared_error(y, y_pred, squared=False)\n",
    "mae = mean_absolute_error(y, y_pred)\n"
   ]
  },
  {
   "cell_type": "markdown",
   "id": "d1bbd7ee",
   "metadata": {},
   "source": [
    "Helps in understanding which features are most important for the model."
   ]
  },
  {
   "cell_type": "code",
   "execution_count": 21,
   "id": "10ed9066",
   "metadata": {},
   "outputs": [],
   "source": [
    "feature_importance = regr_best.feature_importances_\n",
    "sorted_idx = feature_importance.argsort()"
   ]
  },
  {
   "cell_type": "code",
   "execution_count": 22,
   "id": "18085469",
   "metadata": {},
   "outputs": [
    {
     "data": {
      "image/png": "[encoded data removed]",
      "text/plain": [
       "<Figure size 640x480 with 1 Axes>"
      ]
     },
     "metadata": {},
     "output_type": "display_data"
    }
   ],
   "source": [
    "plt.barh(range(X_selected.shape[1]), feature_importance[sorted_idx])\n",
    "plt.yticks(range(X_selected.shape[1]), X.columns[sorted_idx])\n",
    "plt.xlabel('Importance')\n",
    "plt.title('Feature Importance')\n",
    "plt.show()"
   ]
  },
  {
   "cell_type": "code",
   "execution_count": 23,
   "id": "ac7a969a",
   "metadata": {},
   "outputs": [
    {
     "name": "stdout",
     "output_type": "stream",
     "text": [
      "Root Mean Squared Error (RMSE): 3006.620858118147\n",
      "Mean Absolute Error (MAE): 1682.9424746694535\n"
     ]
    }
   ],
   "source": [
    "print(f\"Root Mean Squared Error (RMSE): {rmse}\")\n",
    "print(f\"Mean Absolute Error (MAE): {mae}\")"
   ]
  },
  {
   "cell_type": "markdown",
   "id": "2178c477",
   "metadata": {},
   "source": [
    "## Saving the model"
   ]
  },
  {
   "cell_type": "code",
   "execution_count": 24,
   "id": "88db8500",
   "metadata": {},
   "outputs": [
    {
     "data": {
      "text/plain": [
       "['encoder.joblib']"
      ]
     },
     "execution_count": 24,
     "metadata": {},
     "output_type": "execute_result"
    }
   ],
   "source": [
    "dump(regr_best, 'model_best.joblib')\n",
    "dump(enc, 'encoder.joblib')"
   ]
  }
 ],
 "metadata": {
  "kernelspec": {
   "display_name": "Python 3.11.4 64-bit",
   "language": "python",
   "name": "python3"
  },
  "language_info": {
   "codemirror_mode": {
    "name": "ipython",
    "version": 3
   },
   "file_extension": ".py",
   "mimetype": "text/x-python",
   "name": "python",
   "nbconvert_exporter": "python",
   "pygments_lexer": "ipython3",
   "version": "3.11.4"
  },
  "vscode": {
   "interpreter": {
    "hash": "b0fa6594d8f4cbf19f97940f81e996739fb7646882a419484c72d19e05852a7e"
   }
  }
 },
 "nbformat": 4,
 "nbformat_minor": 5
}
